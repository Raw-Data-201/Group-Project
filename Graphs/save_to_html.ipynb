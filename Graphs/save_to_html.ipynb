{
 "cells": [
  {
   "cell_type": "code",
   "execution_count": 4,
   "metadata": {},
   "outputs": [],
   "source": [
    "library(leaflet)\n",
    "library(htmlwidgets)"
   ]
  },
  {
   "cell_type": "code",
   "execution_count": 5,
   "metadata": {},
   "outputs": [
    {
     "name": "stderr",
     "output_type": "stream",
     "text": [
      "ERROR while rich displaying an object: Error in file(file, \"rb\"): invalid 'description' argument\n",
      "\n",
      "Traceback:\n",
      "1. FUN(X[[i]], ...)\n",
      "2. tryCatch(withCallingHandlers({\n",
      " .     rpr <- mime2repr[[mime]](obj)\n",
      " .     if (is.null(rpr)) \n",
      " .         return(NULL)\n",
      " .     prepare_content(is.raw(rpr), rpr)\n",
      " . }, error = error_handler), error = outer_handler)\n",
      "3. tryCatchList(expr, classes, parentenv, handlers)\n",
      "4. tryCatchOne(expr, names, parentenv, handlers[[1L]])\n",
      "5. doTryCatch(return(expr), name, parentenv, handler)\n",
      "6. withCallingHandlers({\n",
      " .     rpr <- mime2repr[[mime]](obj)\n",
      " .     if (is.null(rpr)) \n",
      " .         return(NULL)\n",
      " .     prepare_content(is.raw(rpr), rpr)\n",
      " . }, error = error_handler)\n",
      "7. mime2repr[[mime]](obj)\n",
      "8. repr_html.htmlwidget(obj)\n",
      "9. lapply(obj$dependencies, function(dep) {\n",
      " .     html <- c()\n",
      " .     if (length(dep$script) > 0) {\n",
      " .         f <- file.path(dep$src$file, dep$script)\n",
      " .         html <- c(html, sprintf(\"<script src=\\\"%s\\\"></script>\", \n",
      " .             dataURI(mime = \"application/javascript\", file = f)))\n",
      " .     }\n",
      " .     if (length(dep$stylesheet) > 0) {\n",
      " .         f <- file.path(dep$src$file, dep$stylesheet)\n",
      " .         html <- c(html, sprintf(\"<link href=\\\"%s\\\" rel=\\\"stylesheet\\\" />\", \n",
      " .             dataURI(mime = \"text/css;charset-utf-8\", file = f)))\n",
      " .     }\n",
      " .     paste(html, collapse = \"\\n\")\n",
      " . })\n",
      "10. FUN(X[[i]], ...)\n",
      "11. sprintf(\"<script src=\\\"%s\\\"></script>\", dataURI(mime = \"application/javascript\", \n",
      "  .     file = f))\n",
      "12. dataURI(mime = \"application/javascript\", file = f)\n",
      "13. file(file, \"rb\")\n"
     ]
    },
    {
     "data": {
      "text/plain": [
       "HTML widgets cannot be represented in plain text (need html)"
      ]
     },
     "metadata": {},
     "output_type": "display_data"
    },
    {
     "ename": "ERROR",
     "evalue": "Error in saveWidget(m, file = \"test.html\"): Saving a widget with selfcontained = TRUE requires pandoc. For details see:\nhttps://github.com/rstudio/rmarkdown/blob/master/PANDOC.md\n",
     "output_type": "error",
     "traceback": [
      "Error in saveWidget(m, file = \"test.html\"): Saving a widget with selfcontained = TRUE requires pandoc. For details see:\nhttps://github.com/rstudio/rmarkdown/blob/master/PANDOC.md\nTraceback:\n",
      "1. saveWidget(m, file = \"test.html\")",
      "2. stop(\"Saving a widget with selfcontained = TRUE requires pandoc. For details see:\\n\", \n .     \"https://github.com/rstudio/rmarkdown/blob/master/PANDOC.md\")"
     ]
    }
   ],
   "source": [
    "m <- leaflet() %>%\n",
    "  addTiles() %>%  # Add default OpenStreetMap map tiles\n",
    "  addMarkers(lng=174.768, lat=-36.852, popup=\"The birthplace of R\")\n",
    "m  # Print the map\n",
    "saveWidget(m, file=\"test.html\")"
   ]
  },
  {
   "cell_type": "code",
   "execution_count": null,
   "metadata": {},
   "outputs": [],
   "source": []
  }
 ],
 "metadata": {
  "kernelspec": {
   "display_name": "R",
   "language": "R",
   "name": "ir"
  },
  "language_info": {
   "codemirror_mode": "r",
   "file_extension": ".r",
   "mimetype": "text/x-r-source",
   "name": "R",
   "pygments_lexer": "r",
   "version": "3.5.1"
  }
 },
 "nbformat": 4,
 "nbformat_minor": 2
}
