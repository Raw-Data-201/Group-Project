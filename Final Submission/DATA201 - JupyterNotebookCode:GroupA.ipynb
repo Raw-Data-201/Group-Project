{
 "cells": [
  {
   "cell_type": "markdown",
   "metadata": {},
   "source": [
    "# Group A\n",
    "## Team Raw Data"
   ]
  },
  {
   "cell_type": "raw",
   "metadata": {},
   "source": [
    "Andre | afr69  | 94090338\n",
    "Jacob | jpr120 | 24988533\n",
    "Jerry | dyu21  | 99821532\n",
    "John  | jki80  | 51968113"
   ]
  },
  {
   "cell_type": "markdown",
   "metadata": {},
   "source": [
    " "
   ]
  },
  {
   "cell_type": "code",
   "execution_count": 1,
   "metadata": {},
   "outputs": [
    {
     "name": "stdout",
     "output_type": "stream",
     "text": [
      "package 'magick' successfully unpacked and MD5 sums checked\n",
      "\n",
      "The downloaded binary packages are in\n",
      "\tC:\\Users\\Andre-Fremaux\\AppData\\Local\\Temp\\RtmpsThbjt\\downloaded_packages\n"
     ]
    },
    {
     "name": "stderr",
     "output_type": "stream",
     "text": [
      "also installing the dependencies 'miniUI', 'webshot', 'manipulateWidget'\n",
      "\n"
     ]
    },
    {
     "name": "stdout",
     "output_type": "stream",
     "text": [
      "package 'miniUI' successfully unpacked and MD5 sums checked\n",
      "package 'webshot' successfully unpacked and MD5 sums checked\n",
      "package 'manipulateWidget' successfully unpacked and MD5 sums checked\n",
      "package 'rgl' successfully unpacked and MD5 sums checked\n",
      "\n",
      "The downloaded binary packages are in\n",
      "\tC:\\Users\\Andre-Fremaux\\AppData\\Local\\Temp\\RtmpsThbjt\\downloaded_packages\n"
     ]
    },
    {
     "name": "stderr",
     "output_type": "stream",
     "text": [
      "-- Attaching packages --------------------------------------- tidyverse 1.2.1 --\n",
      "v ggplot2 3.0.0     v purrr   0.2.5\n",
      "v tibble  1.4.2     v dplyr   0.7.6\n",
      "v tidyr   0.8.1     v stringr 1.3.1\n",
      "v readr   1.1.1     v forcats 0.3.0\n",
      "-- Conflicts ------------------------------------------ tidyverse_conflicts() --\n",
      "x dplyr::filter() masks stats::filter()\n",
      "x dplyr::lag()    masks stats::lag()\n",
      "Linking to ImageMagick 6.9.9.14\n",
      "Enabled features: cairo, freetype, fftw, ghostscript, lcms, pango, rsvg, webp\n",
      "Disabled features: fontconfig, x11\n",
      "\n",
      "Attaching package: 'lubridate'\n",
      "\n",
      "The following object is masked from 'package:base':\n",
      "\n",
      "    date\n",
      "\n"
     ]
    }
   ],
   "source": [
    "# install.packages(\"lubridate\")\n",
    "# install.packages(\"leaflet\")\n",
    "# install.packages(\"htmlwidgets\")\n",
    "# install.packages(\"magick\")\n",
    "# install.packages(\"rgl\")\n",
    "\n",
    "library(tidyverse)\n",
    "library(skimr)\n",
    "library(visdat)\n",
    "library(leaflet)\n",
    "library(htmlwidgets)\n",
    "library(magick)\n",
    "library(rgl)\n",
    "library(lubridate)"
   ]
  },
  {
   "cell_type": "code",
   "execution_count": 2,
   "metadata": {},
   "outputs": [
    {
     "name": "stderr",
     "output_type": "stream",
     "text": [
      "Parsed with column specification:\n",
      "cols(\n",
      "  .default = col_character(),\n",
      "  origintime = col_datetime(format = \"\"),\n",
      "  modificationtime = col_datetime(format = \"\"),\n",
      "  longitude = col_double(),\n",
      "  latitude = col_double(),\n",
      "  magnitude = col_double(),\n",
      "  depth = col_double(),\n",
      "  usedphasecount = col_integer(),\n",
      "  usedstationcount = col_integer(),\n",
      "  magnitudestationcount = col_integer(),\n",
      "  minimumdistance = col_double(),\n",
      "  azimuthalgap = col_double(),\n",
      "  originerror = col_double(),\n",
      "  magnitudeuncertainty = col_double()\n",
      ")\n",
      "See spec(...) for full column specifications.\n"
     ]
    },
    {
     "name": "stdout",
     "output_type": "stream",
     "text": [
      "Observations: 931\n",
      "Variables: 21\n",
      "$ publicid              <chr> \"2015p986126\", \"2015p986015\", \"2015p985702\", ...\n",
      "$ eventtype             <chr> NA, NA, NA, NA, \"earthquake\", NA, NA, \"earthq...\n",
      "$ origintime            <dttm> 2015-12-31 20:48:01, 2015-12-31 19:48:48, 20...\n",
      "$ modificationtime      <dttm> 2015-12-31 20:50:58, 2015-12-31 19:51:04, 20...\n",
      "$ longitude             <dbl> 172.4209, 173.8175, 173.0586, 173.0774, 171.3...\n",
      "$ latitude              <dbl> -43.83825, -42.40701, -43.16447, -43.16501, -...\n",
      "$ magnitude             <dbl> 2.115246, 2.120919, 2.451801, 2.268203, 3.003...\n",
      "$ depth                 <dbl> 8.984375, 56.562500, 12.031250, 12.031250, 11...\n",
      "$ magnitudetype         <chr> \"M\", \"M\", \"M\", \"M\", \"M\", \"M\", \"M\", \"M\", \"M\", ...\n",
      "$ depthtype             <chr> NA, NA, NA, NA, NA, NA, NA, NA, NA, NA, NA, N...\n",
      "$ evaluationmethod      <chr> \"NonLinLoc\", \"NonLinLoc\", \"NonLinLoc\", \"NonLi...\n",
      "$ evaluationstatus      <chr> NA, NA, NA, NA, \"confirmed\", NA, NA, \"confirm...\n",
      "$ evaluationmode        <chr> \"automatic\", \"automatic\", \"automatic\", \"autom...\n",
      "$ earthmodel            <chr> \"nz3drx\", \"nz3drx\", \"nz3drx\", \"nz3drx\", \"nz3d...\n",
      "$ usedphasecount        <int> 18, 20, 22, 15, 42, 10, 12, 19, 23, 14, 18, 2...\n",
      "$ usedstationcount      <int> 18, 20, 22, 15, 32, 10, 12, 14, 18, 14, 13, 1...\n",
      "$ magnitudestationcount <int> 6, 7, 6, 4, 13, 6, 4, 9, 9, 6, 3, 1, 9, 7, 2,...\n",
      "$ minimumdistance       <dbl> 0.21241549, 0.20583339, 0.19777345, 0.1999714...\n",
      "$ azimuthalgap          <dbl> 130.41051, 150.71538, 136.99563, 153.85449, 5...\n",
      "$ originerror           <dbl> 0.4701863, 0.9146338, 1.1681219, 0.7444889, 0...\n",
      "$ magnitudeuncertainty  <dbl> 0, 0, 0, 0, 0, 0, 0, 0, 0, 0, 0, 0, 0, 0, 0, ...\n"
     ]
    }
   ],
   "source": [
    "#=========================================================================================\n",
    "# Import and inspect earthquake data.\n",
    "#=========================================================================================\n",
    "\n",
    "earthquake_data <- read_csv(\"2015 - Geonet Earthquake Data.csv\")\n",
    "\n",
    "# Take a quick look to see what kind of entries and variable types we are dealing with.\n",
    "glimpse(earthquake_data)"
   ]
  },
  {
   "cell_type": "code",
   "execution_count": 9,
   "metadata": {},
   "outputs": [
    {
     "name": "stdout",
     "output_type": "stream",
     "text": [
      "Skim summary statistics  \n",
      " n obs: 931    \n",
      " n variables: 21    \n",
      "\n",
      "Variable type: character\n",
      "\n",
      "|     variable     | missing | complete |  n  | min | max | empty | n_unique |\n",
      "|------------------|---------|----------|-----|-----|-----|-------|----------|\n",
      "|    depthtype     |   910   |    21    | 931 | 17  | 17  |   0   |    1     |\n",
      "|    earthmodel    |    0    |   931    | 931 |  6  |  6  |   0   |    2     |\n",
      "| evaluationmethod |    0    |   931    | 931 |  6  |  9  |   0   |    2     |\n",
      "|  evaluationmode  |    0    |   931    | 931 |  6  |  9  |   0   |    2     |\n",
      "| evaluationstatus |   609   |   322    | 931 |  9  |  9  |   0   |    1     |\n",
      "|    eventtype     |   607   |   324    | 931 | 10  | 27  |   0   |    2     |\n",
      "|  magnitudetype   |    0    |   931    | 931 |  1  |  3  |   0   |    3     |\n",
      "|     publicid     |    0    |   931    | 931 | 11  | 11  |   0   |   931    |\n",
      "\n",
      "Variable type: integer\n",
      "\n",
      "|       variable        | missing | complete |  n  | mean  |  sd  | p0 | p25 | p50 | p75 | p100 |   hist   |\n",
      "|-----------------------|---------|----------|-----|-------|------|----|-----|-----|-----|------|----------|\n",
      "| magnitudestationcount |    0    |   931    | 931 | 10.21 | 8.74 | 1  |  6  |  8  | 12  | 116  | <U+2587><U+2581><U+2581><U+2581><U+2581><U+2581><U+2581><U+2581> |\n",
      "|    usedphasecount     |    0    |   931    | 931 | 18.07 | 8.75 | 7  | 12  | 15  | 21  |  98  | <U+2587><U+2583><U+2581><U+2581><U+2581><U+2581><U+2581><U+2581> |\n",
      "|   usedstationcount    |    0    |   931    | 931 | 15.89 | 6.96 | 4  | 12  | 14  | 18  |  88  | <U+2587><U+2586><U+2581><U+2581><U+2581><U+2581><U+2581><U+2581> |\n",
      "\n",
      "Variable type: numeric\n",
      "\n",
      "|       variable       | missing | complete |  n  |  mean   |   sd   |   p0   |  p25   |  p50   |  p75   |  p100  |   hist   |\n",
      "|----------------------|---------|----------|-----|---------|--------|--------|--------|--------|--------|--------|----------|\n",
      "|     azimuthalgap     |    0    |   931    | 931 |  97.52  | 36.19  | 38.31  | 73.69  | 91.87  | 110.03 | 301.15 | <U+2583><U+2587><U+2583><U+2582><U+2581><U+2581><U+2581><U+2581> |\n",
      "|        depth         |    0    |   931    | 931 |  18.11  | 18.96  |  2.57  |  8.63  | 10.16  | 20.23  | 256.25 | <U+2587><U+2581><U+2581><U+2581><U+2581><U+2581><U+2581><U+2581> |\n",
      "|       latitude       |    0    |   931    | 931 | -43.16  |  0.59  | -44.57 | -43.59 | -43.46 | -42.62 | -41.84 | <U+2581><U+2581><U+2587><U+2586><U+2582><U+2582><U+2583><U+2583> |\n",
      "|      longitude       |    0    |   931    | 931 | 172.52  |  0.68  | 169.66 | 172.16 | 172.55 | 172.9  | 175.7  | <U+2581><U+2581><U+2582><U+2587><U+2587><U+2581><U+2581><U+2581> |\n",
      "|      magnitude       |    0    |   931    | 931 |  2.44   |  0.48  |  1.38  |  2.14  |  2.39  |  2.63  |  6.23  | <U+2582><U+2587><U+2583><U+2581><U+2581><U+2581><U+2581><U+2581> |\n",
      "| magnitudeuncertainty |    0    |   931    | 931 | 0.00043 | 0.0093 |   0    |   0    |   0    |   0    |  0.22  | <U+2587><U+2581><U+2581><U+2581><U+2581><U+2581><U+2581><U+2581> |\n",
      "|   minimumdistance    |    0    |   931    | 931 |  0.23   |  0.13  | 0.0053 |  0.14  |  0.2   |  0.3   |  1.55  | <U+2587><U+2587><U+2581><U+2581><U+2581><U+2581><U+2581><U+2581> |\n",
      "|     originerror      |    0    |   931    | 931 |  0.51   |  0.27  | 0.032  |  0.34  |  0.47  |  0.61  |  3.31  | <U+2587><U+2587><U+2581><U+2581><U+2581><U+2581><U+2581><U+2581> |\n",
      "\n",
      "Variable type: POSIXct\n",
      "\n",
      "|     variable     | missing | complete |  n  |    min     |    max     |   median   | n_unique |\n",
      "|------------------|---------|----------|-----|------------|------------|------------|----------|\n",
      "| modificationtime |    0    |   931    | 931 | 2015-01-01 | 2016-01-12 | 2015-06-26 |   931    |\n",
      "|    origintime    |    0    |   931    | 931 | 2015-01-01 | 2015-12-31 | 2015-06-25 |   931    |\n"
     ]
    }
   ],
   "source": [
    "# Check to see some of the datas statistics and whether or not there is any missing data.\n",
    "earthquake_data %>%\n",
    "    skim() %>%\n",
    "    kable()"
   ]
  },
  {
   "cell_type": "code",
   "execution_count": 3,
   "metadata": {},
   "outputs": [
    {
     "data": {},
     "metadata": {},
     "output_type": "display_data"
    },
    {
     "data": {
      "image/png": "[encoded data removed]",
      "text/plain": [
       "plot without title"
      ]
     },
     "metadata": {},
     "output_type": "display_data"
    }
   ],
   "source": [
    "# Split origintime into date and time.\n",
    "earthquake_data <- earthquake_data %>%\n",
    "    mutate(Date = substr(origintime, 1, 10))\n",
    "\n",
    "earthquake_data <- earthquake_data %>%\n",
    "    mutate(time = substr(origintime, 11, 19))\n",
    "\n",
    "# Select the collumns we need to use.\n",
    "earthquake_data_small <- select(\n",
    "    earthquake_data,\n",
    "    \"Date\",\n",
    "    \"time\",\n",
    "    \"eventtype\",\n",
    "    \"longitude\",\n",
    "    \"latitude\",\n",
    "    \"magnitude\",\n",
    "    \"depth\"\n",
    ")\n",
    "\n",
    "# View the proportions of data types.\n",
    "earthquake_data_small %>%\n",
    "    vis_dat()"
   ]
  },
  {
   "cell_type": "code",
   "execution_count": 4,
   "metadata": {},
   "outputs": [
    {
     "name": "stderr",
     "output_type": "stream",
     "text": [
      "Parsed with column specification:\n",
      "cols(\n",
      "  .default = col_character(),\n",
      "  `AU2014 (MB2014 GV Clipped.shp)` = col_integer(),\n",
      "  Au2014 = col_integer(),\n",
      "  `AU2014 code` = col_integer(),\n",
      "  Cb2014 = col_integer(),\n",
      "  `CB2014 code` = col_integer(),\n",
      "  Con2014 = col_integer(),\n",
      "  `CON2014 code` = col_integer(),\n",
      "  Hour = col_integer(),\n",
      "  `Row Totals` = col_integer(),\n",
      "  `Calculation_676102955872370691 1` = col_integer(),\n",
      "  `Calculation_676102955873337349 1` = col_integer(),\n",
      "  Calculation_676102955875164168 = col_integer(),\n",
      "  `Number of Victimisations` = col_integer(),\n",
      "  `DHBCON code` = col_integer(),\n",
      "  `DHB code` = col_integer(),\n",
      "  Ged2007 = col_integer(),\n",
      "  `GED2007 code` = col_integer(),\n",
      "  `HDOM2006 code` = col_integer(),\n",
      "  Land2014 = col_integer(),\n",
      "  `MB2001 code` = col_integer()\n",
      "  # ... with 39 more columns\n",
      ")\n",
      "See spec(...) for full column specifications.\n"
     ]
    },
    {
     "name": "stdout",
     "output_type": "stream",
     "text": [
      "Observations: 21,294\n",
      "Variables: 110\n",
      "$ `ANZSOC Division`                      <chr> \"Theft and Related Offences\"...\n",
      "$ `ANZSOC Group`                         <chr> \"Illegal Use of Property (Ex...\n",
      "$ `Anzsoc Subdivision`                   <chr> \"Illegal Use of Property (Ex...\n",
      "$ `Area Unit`                            <chr> \"St Albans East.\", \"Addingto...\n",
      "$ `AU2014 (MB2014 GV Clipped.shp)`       <int> 592402, 594700, 594600, 5915...\n",
      "$ Au2014                                 <int> 592402, 594700, 594600, 5915...\n",
      "$ `AU2014 NAM (MB2014 GV Clipped.shp)`   <chr> \"St Albans East\", \"Addington...\n",
      "$ `Au2014 Nam`                           <chr> \"St Albans East\", \"Addington...\n",
      "$ `AU2014 code`                          <int> 592402, 594700, 594600, 5915...\n",
      "$ `AU2014 label`                         <chr> \"St Albans East\", \"Addington...\n",
      "$ Cb2014                                 <int> 6001, 6006, 6006, 6005, 5903...\n",
      "$ `Cb2014 Nam`                           <chr> \"Shirley-Papanui Community\",...\n",
      "$ `CB2014 code`                          <int> 6001, 6006, 6006, 6005, 5903...\n",
      "$ `CB2014 label`                         <chr> \"Shirley-Papanui Community\",...\n",
      "$ Con2014                                <int> 1302, 1305, 1305, 1304, 1301...\n",
      "$ `Con2014 Na`                           <chr> \"Christchurch North Constitu...\n",
      "$ `CON2014 code`                         <int> 1302, 1305, 1305, 1304, 1301...\n",
      "$ `CON2014 label`                        <chr> \"Christchurch North Constitu...\n",
      "$ `Table 1`                              <chr> \"1 Victimisation Time and Pl...\n",
      "$ Hour                                   <int> 14, 21, 10, 16, 17, 19, 7, 9...\n",
      "$ `Row Totals`                           <int> 35705, 16401, 24307, 34462, ...\n",
      "$ `Calculation_676102955872370691 1`     <int> 0, 0, 0, 0, 0, 0, 0, 0, 0, 0...\n",
      "$ `Calculation_676102955873337349 1`     <int> 0, 0, 0, 0, 0, 0, 0, 0, 0, 0...\n",
      "$ Calculation_676102955875164168         <int> 2015, 2015, 2015, 2015, 2015...\n",
      "$ Country                                <chr> \"NZ\", \"NZ\", \"NZ\", \"NZ\", \"NZ\"...\n",
      "$ `Map Detail Name`                      <chr> \"Canterbury Region\", \"Canter...\n",
      "$ `Selected Detail Level`                <chr> \"Region\", \"Region\", \"Region\"...\n",
      "$ Region                                 <chr> \"Canterbury Region\", \"Canter...\n",
      "$ `Number of Victimisations`             <int> 1, 1, 1, 1, 1, 1, 1, 1, 1, 1...\n",
      "$ `Crimes type (copy)`                   <chr> \"property crimes\", \"violent ...\n",
      "$ `Crimes type`                          <chr> \"property crimes\", \"violent ...\n",
      "$ `DHBCON code`                          <int> 1899, 1899, 1899, 1899, 1899...\n",
      "$ `DHBCON label`                         <chr> \"Area Outside District Healt...\n",
      "$ `DHB code`                             <int> 18, 18, 18, 18, 18, 18, 18, ...\n",
      "$ `DHB label`                            <chr> \"Canterbury\", \"Canterbury\", ...\n",
      "$ F36                                    <chr> NA, NA, NA, NA, NA, NA, NA, ...\n",
      "$ Ged2007                                <int> 4, 63, 40, 4, 55, 40, 63, 63...\n",
      "$ `Ged2007 Na`                           <chr> \"Christchurch Central\", \"Wig...\n",
      "$ `GED2007 code`                         <int> 4, 63, 40, 4, 55, 40, 63, 63...\n",
      "$ `GED2007 label`                        <chr> \"Christchurch Central\", \"Wig...\n",
      "$ `Geometry (MB2014 GV Clipped.shp)`     <chr> \"POLYGON\", \"POLYGON\", \"POLYG...\n",
      "$ `Geometry (REGC2014 GV Clipped.shp)`   <chr> \"MULTIPOLYGON\", \"MULTIPOLYGO...\n",
      "$ `Geometry (TA2014 GV Clipped.shp)`     <chr> \"MULTIPOLYGON\", \"MULTIPOLYGO...\n",
      "$ Geometry                               <chr> \"POLYGON\", \"POLYGON\", \"POLYG...\n",
      "$ `HDOM2006 code`                        <int> 2648, 2676, 2675, 2638, 2471...\n",
      "$ Land20014                              <chr> \"Mainland\", \"Mainland\", \"Mai...\n",
      "$ Land2014                               <int> 12, 12, 12, 12, 12, 12, 12, ...\n",
      "$ `Location Type`                        <chr> \".\", \".\", \".\", \".\", \".\", \".\"...\n",
      "$ `Locn Type Division`                   <chr> \"Other Location\", \"Community...\n",
      "$ `MB2001 code`                          <int> 2687200, 2659700, 2618500, 2...\n",
      "$ `MB2006 code`                          <int> 2687200, 2659700, 2618500, 2...\n",
      "$ `MB2007 code`                          <int> 2687200, 2659700, 2618500, 2...\n",
      "$ `MB2008 code`                          <int> 2687200, 2659700, 2618500, 2...\n",
      "$ `MB2009 code`                          <int> 2687200, 2659700, 2618500, 2...\n",
      "$ `MB2010 code`                          <int> 2687200, 2659700, 2618500, 2...\n",
      "$ `MB2011 code`                          <int> 2687200, 2659700, 2618500, 2...\n",
      "$ `MB2012 code`                          <int> 2687200, 2659700, 2618500, 2...\n",
      "$ `MB2013 code`                          <int> 2687200, 2659700, 2618500, 2...\n",
      "$ Mb2014                                 <int> 2687200, 2659700, 2618500, 2...\n",
      "$ `MB2014 code`                          <int> 2687200, 2659700, 2618500, 2...\n",
      "$ Mcon2014                               <int> 1399, 1399, 1399, 1399, 1399...\n",
      "$ `Mcon2014 N`                           <chr> \"Area Outside Maori Constitu...\n",
      "$ `MCON2014 code`                        <int> 1399, 1399, 1399, 1399, 1399...\n",
      "$ `MCON2014 label`                       <chr> \"Area Outside Maori Constitu...\n",
      "$ Med2007                                <int> 6, 6, 6, 6, 6, 6, 6, 6, 6, 6...\n",
      "$ `Med2007 Na`                           <chr> \"Te Tai Tonga\", \"Te Tai Tong...\n",
      "$ `MED2007 code`                         <int> 6, 6, 6, 6, 6, 6, 6, 6, 6, 6...\n",
      "$ `MED2007 label`                        <chr> \"Te Tai Tonga\", \"Te Tai Tong...\n",
      "$ Meshblock                              <int> 2687200, 2659700, 2618500, 2...\n",
      "$ `Number of Records`                    <int> 1, 1, 1, 1, 1, 1, 1, 1, 1, 1...\n",
      "$ `Occurrence Day Of Week`               <chr> \"Sat\", \"Sat\", \"Fri\", \"Fri\", ...\n",
      "$ `Occurrence Hour Of Day`               <int> 14, 21, 10, 16, 17, 19, 7, 9...\n",
      "$ `REGC2014 (REGC2014 GV Clipped.shp)`   <int> 13, 13, 13, 13, 13, 13, 13, ...\n",
      "$ Regc2014                               <int> 13, 13, 13, 13, 13, 13, 13, ...\n",
      "$ `REGC2014 N (REGC2014 GV Clipped.shp)` <chr> \"Canterbury Region\", \"Canter...\n",
      "$ `Regc2014 N`                           <chr> \"Canterbury Region\", \"Canter...\n",
      "$ `REGC2014 code`                        <int> 13, 13, 13, 13, 13, 13, 13, ...\n",
      "$ `REGC2014 label`                       <chr> \"Canterbury Region\", \"Canter...\n",
      "$ `SHAPE Area (MB2014 GV Clipped.shp)`   <dbl> 30496.34, 23371.24, 35869.28...\n",
      "$ `SHAPE Area (REGC2014 GV Clipped.shp)` <dbl> 45207066909, 45207066909, 45...\n",
      "$ `SHAPE Area (TA2014 GV Clipped.shp)`   <dbl> 1484619155, 1484619155, 1484...\n",
      "$ `SHAPE Area`                           <dbl> 1312662.9, 1062725.2, 279294...\n",
      "$ `SHAPE Leng (MB2014 GV Clipped.shp)`   <dbl> 747.4800, 654.2613, 835.9379...\n",
      "$ `SHAPE Leng (REGC2014 GV Clipped.shp)` <dbl> 1848389, 1848389, 1848389, 1...\n",
      "$ `SHAPE Leng (TA2014 GV Clipped.shp)`   <dbl> 536484.5, 536484.5, 536484.5...\n",
      "$ `SHAPE Leng`                           <dbl> 4923.304, 4355.279, 7003.736...\n",
      "$ `Select Detail Name`                   <chr> \"Christchurch City.\", \"Chris...\n",
      "$ `Selected Geographic Level`            <chr> \"MULTIPOLYGON\", \"MULTIPOLYGO...\n",
      "$ `TA2014 (MB2014 GV Clipped.shp)`       <int> 60, 60, 60, 60, 59, 60, 60, ...\n",
      "$ Ta2014                                 <int> 60, 60, 60, 60, 59, 60, 60, ...\n",
      "$ `TA2014 NAM (MB2014 GV Clipped.shp)`   <chr> \"Christchurch City\", \"Christ...\n",
      "$ `Ta2014 Nam`                           <chr> \"Christchurch City\", \"Christ...\n",
      "$ `TA2014 code`                          <int> 60, 60, 60, 60, 59, 60, 60, ...\n",
      "$ `TA2014 label`                         <chr> \"Christchurch City\", \"Christ...\n",
      "$ Tasub2014                              <int> 6099, 6099, 6099, 6099, 5999...\n",
      "$ Tasub20141                             <chr> \"Area Outside Subdivision\", ...\n",
      "$ `Territorial Authority`                <chr> \"Christchurch City.\", \"Chris...\n",
      "$ Ua2014                                 <int> 22, 22, 22, 22, 116, 22, 22,...\n",
      "$ `Ua2014 Nam`                           <chr> \"Christchurch\", \"Christchurc...\n",
      "$ `UA2014 code`                          <int> 22, 22, 22, 22, 116, 22, 22,...\n",
      "$ `UA2014 label`                         <chr> \"Christchurch\", \"Christchurc...\n",
      "$ Victimisations                         <int> 1, 1, 1, 1, 1, 1, 1, 1, 1, 1...\n",
      "$ Ward2014                               <int> 6001, 6006, 6006, 6005, 5903...\n",
      "$ `Ward2014 N`                           <chr> \"Shirley-Papanui Ward\", \"Spr...\n",
      "$ `WARD2014 code`                        <int> 6001, 6006, 6006, 6005, 5903...\n",
      "$ `WARD2014 label`                       <chr> \"Shirley-Papanui Ward\", \"Spr...\n",
      "$ Weapon                                 <chr> \"Not Applicable\", \"Not Appli...\n",
      "$ `Year Month`                           <chr> \"1/02/15\", \"1/02/15\", \"1/02/...\n",
      "$ `Zero 1 (copy) (copy) 1`               <int> 0, 0, 0, 0, 0, 0, 0, 0, 0, 0...\n",
      "$ `Zero 1 (copy) 1`                      <int> 0, 0, 0, 0, 0, 0, 0, 0, 0, 0...\n"
     ]
    }
   ],
   "source": [
    "#=========================================================================================\n",
    "# Import and wrangle earthquake data.\n",
    "#=========================================================================================\n",
    "\n",
    "victimisation_data <- read_csv(\"2015 - Victimisation in Canterbury.csv\")\n",
    "\n",
    "# Take a quick look to see what kind of entries and variable types we are dealing with.\n",
    "glimpse(victimisation_data)"
   ]
  },
  {
   "cell_type": "code",
   "execution_count": 5,
   "metadata": {},
   "outputs": [
    {
     "name": "stderr",
     "output_type": "stream",
     "text": [
      "Warning message in min(characters, na.rm = TRUE):\n",
      "\"no non-missing arguments to min; returning Inf\"Warning message in max(characters, na.rm = TRUE):\n",
      "\"no non-missing arguments to max; returning -Inf\""
     ]
    },
    {
     "name": "stdout",
     "output_type": "stream",
     "text": [
      "Skim summary statistics  \n",
      " n obs: 21294    \n",
      " n variables: 110    \n",
      "\n",
      "Variable type: character\n",
      "\n",
      "|               variable               | missing | complete |   n   | min | max  | empty | n_unique |\n",
      "|--------------------------------------|---------|----------|-------|-----|------|-------|----------|\n",
      "|           ANZSOC Division            |    0    |  21294   | 21294 | 26  |  65  |   0   |    6     |\n",
      "|             ANZSOC Group             |    0    |  21294   | 21294 | 14  |  52  |   0   |    17    |\n",
      "|          Anzsoc Subdivision          |    0    |  21294   | 21294 |  7  |  52  |   0   |    9     |\n",
      "|              Area Unit               |    0    |  21294   | 21294 |  5  |  29  |   0   |   246    |\n",
      "|             AU2014 label             |    0    |  21294   | 21294 |  4  |  28  |   0   |   246    |\n",
      "|              Au2014 Nam              |    3    |  21291   | 21294 |  4  |  28  |   0   |   244    |\n",
      "|  AU2014 NAM (MB2014 GV Clipped.shp)  |    6    |  21288   | 21294 |  4  |  28  |   0   |   244    |\n",
      "|             CB2014 label             |    0    |  21294   | 21294 | 16  |  33  |   0   |    23    |\n",
      "|              Cb2014 Nam              |    6    |  21288   | 21294 | 16  |  33  |   0   |    23    |\n",
      "|            CON2014 label             |    0    |  21294   | 21294 | 19  |  35  |   0   |    8     |\n",
      "|              Con2014 Na              |    6    |  21288   | 21294 | 19  |  35  |   0   |    8     |\n",
      "|               Country                |    0    |  21294   | 21294 |  2  |  2   |   0   |    1     |\n",
      "|             Crimes type              |    0    |  21294   | 21294 | 14  |  15  |   0   |    2     |\n",
      "|          Crimes type (copy)          |    0    |  21294   | 21294 | 14  |  15  |   0   |    2     |\n",
      "|              DHB label               |    0    |  21294   | 21294 |  8  |  16  |   0   |    3     |\n",
      "|             DHBCON label             |    0    |  21294   | 21294 | 18  |  47  |   0   |    2     |\n",
      "|                 F36                  |  21294  |    0     | 21294 | Inf | -Inf |   0   |    0     |\n",
      "|            GED2007 label             |    0    |  21294   | 21294 |  4  |  20  |   0   |    10    |\n",
      "|              Ged2007 Na              |    6    |  21288   | 21294 |  4  |  20  |   0   |    10    |\n",
      "|               Geometry               |    3    |  21291   | 21294 |  7  |  12  |   0   |    2     |\n",
      "|   Geometry (MB2014 GV Clipped.shp)   |    6    |  21288   | 21294 |  7  |  7   |   0   |    1     |\n",
      "|  Geometry (REGC2014 GV Clipped.shp)  |    0    |  21294   | 21294 | 12  |  12  |   0   |    1     |\n",
      "|   Geometry (TA2014 GV Clipped.shp)   |    0    |  21294   | 21294 |  7  |  12  |   0   |    2     |\n",
      "|              Land20014               |    6    |  21288   | 21294 |  5  |  12  |   0   |    3     |\n",
      "|            Location Type             |    0    |  21294   | 21294 |  1  |  28  |   0   |    26    |\n",
      "|          Locn Type Division          |    0    |  21294   | 21294 | 14  |  20  |   0   |    5     |\n",
      "|           Map Detail Name            |    0    |  21294   | 21294 | 17  |  17  |   0   |    1     |\n",
      "|            MCON2014 label            |    0    |  21294   | 21294 | 31  |  31  |   0   |    1     |\n",
      "|              Mcon2014 N              |    6    |  21288   | 21294 | 31  |  31  |   0   |    1     |\n",
      "|            MED2007 label             |    0    |  21294   | 21294 | 12  |  12  |   0   |    1     |\n",
      "|              Med2007 Na              |    6    |  21288   | 21294 | 12  |  12  |   0   |    1     |\n",
      "|        Occurrence Day Of Week        |    0    |  21294   | 21294 |  3  |  7   |   0   |    8     |\n",
      "|            REGC2014 label            |    0    |  21294   | 21294 | 17  |  17  |   0   |    1     |\n",
      "|              Regc2014 N              |    6    |  21288   | 21294 | 17  |  17  |   0   |    1     |\n",
      "| REGC2014 N (REGC2014 GV Clipped.shp) |    0    |  21294   | 21294 | 17  |  17  |   0   |    1     |\n",
      "|                Region                |    0    |  21294   | 21294 | 17  |  17  |   0   |    1     |\n",
      "|          Select Detail Name          |    0    |  21294   | 21294 | 16  |  21  |   0   |    10    |\n",
      "|        Selected Detail Level         |    0    |  21294   | 21294 |  6  |  6   |   0   |    1     |\n",
      "|      Selected Geographic Level       |    0    |  21294   | 21294 | 12  |  12  |   0   |    1     |\n",
      "|             TA2014 label             |    0    |  21294   | 21294 | 15  |  20  |   0   |    10    |\n",
      "|              Ta2014 Nam              |    0    |  21294   | 21294 | 15  |  20  |   0   |    10    |\n",
      "|  TA2014 NAM (MB2014 GV Clipped.shp)  |    6    |  21288   | 21294 | 15  |  20  |   0   |    10    |\n",
      "|               Table 1                |    0    |  21294   | 21294 | 30  |  30  |   0   |    1     |\n",
      "|              Tasub20141              |    6    |  21288   | 21294 | 18  |  24  |   0   |    5     |\n",
      "|        Territorial Authority         |    0    |  21294   | 21294 | 16  |  21  |   0   |    10    |\n",
      "|             UA2014 label             |    0    |  21294   | 21294 |  6  |  35  |   0   |    22    |\n",
      "|              Ua2014 Nam              |    6    |  21288   | 21294 |  6  |  35  |   0   |    21    |\n",
      "|            WARD2014 label            |    0    |  21294   | 21294 | 10  |  28  |   0   |    35    |\n",
      "|              Ward2014 N              |    6    |  21288   | 21294 | 10  |  28  |   0   |    35    |\n",
      "|                Weapon                |    0    |  21294   | 21294 |  4  |  23  |   0   |    10    |\n",
      "|              Year Month              |    0    |  21294   | 21294 |  7  |  7   |   0   |    11    |\n",
      "\n",
      "Variable type: integer\n",
      "\n",
      "|              variable              | missing | complete |   n   |    mean    |    sd    |   p0    |    p25     |   p50   |   p75   |  p100   |   hist   |\n",
      "|------------------------------------|---------|----------|-------|------------|----------|---------|------------|---------|---------|---------|----------|\n",
      "|               Au2014               |    3    |  21291   | 21294 | 592080.75  | 3567.32  | 581400  |   589800   | 591900  | 594200  |  6e+05  | <U+2581><U+2581><U+2585><U+2585><U+2587><U+2586><U+2582><U+2582> |\n",
      "|   AU2014 (MB2014 GV Clipped.shp)   |    6    |  21288   | 21294 |  592080.2  | 3567.27  | 581400  |   589800   | 591900  | 594200  |  6e+05  | <U+2581><U+2581><U+2585><U+2585><U+2587><U+2586><U+2582><U+2582> |\n",
      "|            AU2014 code             |    0    |  21294   | 21294 | 592082.68  | 3574.45  | 581400  |   589800   | 591900  | 594200  | 625101  | <U+2581><U+2587><U+2587><U+2582><U+2581><U+2581><U+2581><U+2581> |\n",
      "|  Calculation_676102955872370691 1  |    0    |  21294   | 21294 |     0      |    0     |    0    |     0      |    0    |    0    |    0    | <U+2581><U+2581><U+2581><U+2587><U+2581><U+2581><U+2581><U+2581> |\n",
      "|  Calculation_676102955873337349 1  |    0    |  21294   | 21294 |     0      |    0     |    0    |     0      |    0    |    0    |    0    | <U+2581><U+2581><U+2581><U+2587><U+2581><U+2581><U+2581><U+2581> |\n",
      "|   Calculation_676102955875164168   |    0    |  21294   | 21294 |    2015    |    0     |  2015   |    2015    |  2015   |  2015   |  2015   | <U+2581><U+2581><U+2581><U+2587><U+2581><U+2581><U+2581><U+2581> |\n",
      "|               Cb2014               |    6    |  21288   | 21294 |   6044.6   |  154.27  |  5499   |    6002    |  6004   |  6005   |  6899   | <U+2581><U+2581><U+2587><U+2581><U+2581><U+2581><U+2581><U+2581> |\n",
      "|            CB2014 code             |    0    |  21294   | 21294 |  6044.59   |  154.25  |  5499   |    6002    |  6004   |  6005   |  6899   | <U+2581><U+2581><U+2587><U+2581><U+2581><U+2581><U+2581><U+2581> |\n",
      "|              Con2014               |    6    |  21288   | 21294 |  1303.84   |   1.82   |  1301   |    1302    |  1304   |  1305   |  1308   | <U+2583><U+2586><U+2585><U+2587><U+2586><U+2582><U+2581><U+2582> |\n",
      "|            CON2014 code            |    0    |  21294   | 21294 |  1303.84   |   1.82   |  1301   |    1302    |  1304   |  1305   |  1308   | <U+2583><U+2586><U+2585><U+2587><U+2586><U+2582><U+2581><U+2582> |\n",
      "|              DHB code              |    0    |  21294   | 21294 |   18.06    |   0.3    |   18    |     18     |   18    |   18    |   22    | <U+2587><U+2581><U+2581><U+2581><U+2581><U+2581><U+2581><U+2581> |\n",
      "|            DHBCON code             |    0    |  21294   | 21294 |  1905.23   |  27.19   |  1899   |    1899    |  1899   |  1899   |  2201   | <U+2587><U+2581><U+2581><U+2581><U+2581><U+2581><U+2581><U+2581> |\n",
      "|              Ged2007               |    6    |  21288   | 21294 |   30.17    |  23.03   |    4    |     4      |   40    |   47    |   63    | <U+2587><U+2582><U+2581><U+2581><U+2583><U+2583><U+2582><U+2583> |\n",
      "|            GED2007 code            |    0    |  21294   | 21294 |   30.17    |  23.03   |    4    |     4      |   40    |   47    |   63    | <U+2587><U+2582><U+2581><U+2581><U+2583><U+2583><U+2582><U+2583> |\n",
      "|           HDOM2006 code            |    0    |  21294   | 21294 |   2645.1   |  95.81   |  2275   |    2623    |  2650   |  2676   |  3314   | <U+2581><U+2582><U+2587><U+2585><U+2582><U+2581><U+2581><U+2581> |\n",
      "|                Hour                |    0    |  21294   | 21294 |   57.67    |  43.11   |    0    |     14     |   99    |   99    |   99    | <U+2583><U+2585><U+2581><U+2581><U+2581><U+2581><U+2581><U+2587> |\n",
      "|              Land2014              |    6    |  21288   | 21294 |   12.01    |   0.3    |   12    |     12     |   12    |   12    |   31    | <U+2587><U+2581><U+2581><U+2581><U+2581><U+2581><U+2581><U+2581> |\n",
      "|            MB2001 code             |    0    |  21294   | 21294 | 2590458.13 | 97131.43 | 2310702 | 2507425.25 | 2588800 | 2658100 | 2852300 | <U+2581><U+2581><U+2587><U+2587><U+2587><U+2587><U+2582><U+2581> |\n",
      "|            MB2006 code             |    0    |  21294   | 21294 | 2590458.29 | 97131.33 | 2310702 | 2507425.25 | 2588800 | 2658100 | 2852300 | <U+2581><U+2581><U+2587><U+2587><U+2587><U+2587><U+2582><U+2581> |\n",
      "|            MB2007 code             |    0    |  21294   | 21294 | 2590458.3  | 97131.33 | 2310702 | 2507425.25 | 2588800 | 2658100 | 2852300 | <U+2581><U+2581><U+2587><U+2587><U+2587><U+2587><U+2582><U+2581> |\n",
      "|            MB2008 code             |    0    |  21294   | 21294 | 2590458.36 | 97131.29 | 2310702 | 2507426.75 | 2588800 | 2658100 | 2852300 | <U+2581><U+2581><U+2587><U+2587><U+2587><U+2587><U+2582><U+2581> |\n",
      "|            MB2009 code             |    0    |  21294   | 21294 | 2590458.42 | 97131.28 | 2310702 | 2507426.75 | 2588800 | 2658100 | 2852300 | <U+2581><U+2581><U+2587><U+2587><U+2587><U+2587><U+2582><U+2581> |\n",
      "|            MB2010 code             |    0    |  21294   | 21294 | 2590458.51 | 97131.28 | 2310702 | 2507426.75 | 2588800 | 2658100 | 2852300 | <U+2581><U+2581><U+2587><U+2587><U+2587><U+2587><U+2582><U+2581> |\n",
      "|            MB2011 code             |    0    |  21294   | 21294 | 2590458.54 | 97131.27 | 2310702 | 2507426.75 | 2588800 | 2658100 | 2852300 | <U+2581><U+2581><U+2587><U+2587><U+2587><U+2587><U+2582><U+2581> |\n",
      "|            MB2012 code             |    0    |  21294   | 21294 | 2590458.54 | 97131.27 | 2310702 | 2507426.75 | 2588800 | 2658100 | 2852300 | <U+2581><U+2581><U+2587><U+2587><U+2587><U+2587><U+2582><U+2581> |\n",
      "|            MB2013 code             |    0    |  21294   | 21294 | 2590458.54 | 97131.27 | 2310702 | 2507426.75 | 2588800 | 2658100 | 2852300 | <U+2581><U+2581><U+2587><U+2587><U+2587><U+2587><U+2582><U+2581> |\n",
      "|               Mb2014               |    6    |  21288   | 21294 | 2590426.81 | 97126.55 | 2310702 | 2507401.75 | 2588700 | 2658100 | 2852300 | <U+2581><U+2581><U+2587><U+2587><U+2587><U+2587><U+2582><U+2581> |\n",
      "|            MB2014 code             |    0    |  21294   | 21294 | 2590458.54 | 97131.27 | 2310702 | 2507426.75 | 2588800 | 2658100 | 2852300 | <U+2581><U+2581><U+2587><U+2587><U+2587><U+2587><U+2582><U+2581> |\n",
      "|              Mcon2014              |    6    |  21288   | 21294 |    1399    |    0     |  1399   |    1399    |  1399   |  1399   |  1399   | <U+2581><U+2581><U+2581><U+2587><U+2581><U+2581><U+2581><U+2581> |\n",
      "|           MCON2014 code            |    0    |  21294   | 21294 |    1399    |    0     |  1399   |    1399    |  1399   |  1399   |  1399   | <U+2581><U+2581><U+2581><U+2587><U+2581><U+2581><U+2581><U+2581> |\n",
      "|              Med2007               |    6    |  21288   | 21294 |     6      |    0     |    6    |     6      |    6    |    6    |    6    | <U+2581><U+2581><U+2581><U+2587><U+2581><U+2581><U+2581><U+2581> |\n",
      "|            MED2007 code            |    0    |  21294   | 21294 |     6      |    0     |    6    |     6      |    6    |    6    |    6    | <U+2581><U+2581><U+2581><U+2587><U+2581><U+2581><U+2581><U+2581> |\n",
      "|             Meshblock              |    0    |  21294   | 21294 | 2590458.54 | 97131.27 | 2310702 | 2507426.75 | 2588800 | 2658100 | 2852300 | <U+2581><U+2581><U+2587><U+2587><U+2587><U+2587><U+2582><U+2581> |\n",
      "|         Number of Records          |    0    |  21294   | 21294 |     1      |    0     |    1    |     1      |    1    |    1    |    1    | <U+2581><U+2581><U+2581><U+2587><U+2581><U+2581><U+2581><U+2581> |\n",
      "|      Number of Victimisations      |    0    |  21294   | 21294 |    1.07    |   0.35   |    1    |     1      |    1    |    1    |   15    | <U+2587><U+2581><U+2581><U+2581><U+2581><U+2581><U+2581><U+2581> |\n",
      "|       Occurrence Hour Of Day       |    0    |  21294   | 21294 |   57.67    |  43.11   |    0    |     14     |   99    |   99    |   99    | <U+2583><U+2585><U+2581><U+2581><U+2581><U+2581><U+2581><U+2587> |\n",
      "|              Regc2014              |    6    |  21288   | 21294 |     13     |    0     |   13    |     13     |   13    |   13    |   13    | <U+2581><U+2581><U+2581><U+2587><U+2581><U+2581><U+2581><U+2581> |\n",
      "| REGC2014 (REGC2014 GV Clipped.shp) |    0    |  21294   | 21294 |     13     |    0     |   13    |     13     |   13    |   13    |   13    | <U+2581><U+2581><U+2581><U+2587><U+2581><U+2581><U+2581><U+2581> |\n",
      "|           REGC2014 code            |    0    |  21294   | 21294 |     13     |    0     |   13    |     13     |   13    |   13    |   13    | <U+2581><U+2581><U+2581><U+2587><U+2581><U+2581><U+2581><U+2581> |\n",
      "|             Row Totals             |    0    |  21294   | 21294 | 228835.17  |  2e+05   |  5479   |   24935    | 418189  | 418189  | 418189  | <U+2587><U+2581><U+2581><U+2581><U+2581><U+2581><U+2581><U+2587> |\n",
      "|               Ta2014               |    0    |  21294   | 21294 |    60.3    |   1.38   |   54    |     60     |   60    |   60    |   68    | <U+2581><U+2581><U+2581><U+2587><U+2581><U+2581><U+2581><U+2581> |\n",
      "|   TA2014 (MB2014 GV Clipped.shp)   |    6    |  21288   | 21294 |    60.3    |   1.39   |   54    |     60     |   60    |   60    |   68    | <U+2581><U+2581><U+2581><U+2587><U+2581><U+2581><U+2581><U+2581> |\n",
      "|            TA2014 code             |    0    |  21294   | 21294 |    60.3    |   1.38   |   54    |     60     |   60    |   60    |   68    | <U+2581><U+2581><U+2581><U+2587><U+2581><U+2581><U+2581><U+2581> |\n",
      "|             Tasub2014              |    6    |  21288   | 21294 |   6128.3   |  138.03  |  5499   |    6099    |  6099   |  6099   |  6899   | <U+2581><U+2581><U+2581><U+2587><U+2581><U+2581><U+2581><U+2581> |\n",
      "|               Ua2014               |    6    |  21288   | 21294 |   70.13    |  127.46  |   22    |     22     |   22    |   22    |   502   | <U+2587><U+2581><U+2581><U+2581><U+2581><U+2581><U+2581><U+2581> |\n",
      "|            UA2014 code             |    0    |  21294   | 21294 |   70.18    |  127.55  |   22    |     22     |   22    |   22    |   507   | <U+2587><U+2581><U+2581><U+2581><U+2581><U+2581><U+2581><U+2581> |\n",
      "|           Victimisations           |    0    |  21294   | 21294 |    1.07    |   0.35   |    1    |     1      |    1    |    1    |   15    | <U+2587><U+2581><U+2581><U+2581><U+2581><U+2581><U+2581><U+2581> |\n",
      "|              Ward2014              |    6    |  21288   | 21294 |  6034.61   |  134.8   |  5499   |    6002    |  6004   |  6005   |  6804   | <U+2581><U+2581><U+2581><U+2587><U+2581><U+2581><U+2581><U+2581> |\n",
      "|           WARD2014 code            |    0    |  21294   | 21294 |   6034.6   |  134.79  |  5499   |    6002    |  6004   |  6005   |  6804   | <U+2581><U+2581><U+2581><U+2587><U+2581><U+2581><U+2581><U+2581> |\n",
      "|       Zero 1 (copy) (copy) 1       |    0    |  21294   | 21294 |     0      |    0     |    0    |     0      |    0    |    0    |    0    | <U+2581><U+2581><U+2581><U+2587><U+2581><U+2581><U+2581><U+2581> |\n",
      "|          Zero 1 (copy) 1           |    0    |  21294   | 21294 |     0      |    0     |    0    |     0      |    0    |    0    |    0    | <U+2581><U+2581><U+2581><U+2587><U+2581><U+2581><U+2581><U+2581> |\n",
      "\n",
      "Variable type: numeric\n",
      "\n",
      "|               variable               | missing | complete |   n   |    mean    |    sd    |     p0     |    p25     |    p50     |    p75     |    p100    |   hist   |\n",
      "|--------------------------------------|---------|----------|-------|------------|----------|------------|------------|------------|------------|------------|----------|\n",
      "|              SHAPE Area              |    3    |  21291   | 21294 |  8.9e+07   | 5.4e+08  | 425441.16  | 1186858.85 | 1813322.41 | 2926334.86 |  7.3e+09   | <U+2587><U+2581><U+2581><U+2581><U+2581><U+2581><U+2581><U+2581> |\n",
      "|  SHAPE Area (MB2014 GV Clipped.shp)  |    6    |  21288   | 21294 | 2252907.19 | 1.8e+07  |    1811    |  36399.05  |  60417.41  | 121784.15  |  5.7e+08   | <U+2587><U+2581><U+2581><U+2581><U+2581><U+2581><U+2581><U+2581> |\n",
      "| SHAPE Area (REGC2014 GV Clipped.shp) |    0    |  21294   | 21294 |  4.5e+10   |    0     |  4.5e+10   |  4.5e+10   |  4.5e+10   |  4.5e+10   |  4.5e+10   | <U+2581><U+2581><U+2581><U+2587><U+2581><U+2581><U+2581><U+2581> |\n",
      "|  SHAPE Area (TA2014 GV Clipped.shp)  |    0    |  21294   | 21294 |   2e+09    | 1.5e+09  |  1.5e+09   |  1.5e+09   |  1.5e+09   |  1.5e+09   |  8.7e+09   | <U+2587><U+2581><U+2581><U+2581><U+2581><U+2581><U+2581><U+2581> |\n",
      "|              SHAPE Leng              |    3    |  21291   | 21294 |  20195.19  | 59768.92 |   2868.5   |  4928.67   |  6566.17   |  9024.22   | 666539.12  | <U+2587><U+2581><U+2581><U+2581><U+2581><U+2581><U+2581><U+2581> |\n",
      "|  SHAPE Leng (MB2014 GV Clipped.shp)  |    6    |  21288   | 21294 |    2892    |   7684   |   180.61   |   873.08   |  1116.15   |  1763.27   | 141839.28  | <U+2587><U+2581><U+2581><U+2581><U+2581><U+2581><U+2581><U+2581> |\n",
      "| SHAPE Leng (REGC2014 GV Clipped.shp) |    0    |  21294   | 21294 | 1848389.45 |    0     | 1848389.45 | 1848389.45 | 1848389.45 | 1848389.45 | 1848389.45 | <U+2581><U+2581><U+2581><U+2587><U+2581><U+2581><U+2581><U+2581> |\n",
      "|  SHAPE Leng (TA2014 GV Clipped.shp)  |    0    |  21294   | 21294 | 513548.24  | 66898.43 | 263995.48  | 536484.47  | 536484.47  | 536484.47  | 738676.29  | <U+2581><U+2581><U+2581><U+2581><U+2587><U+2581><U+2581><U+2581> |\n"
     ]
    }
   ],
   "source": [
    "# Check to see some of the datas statistics and whether or not there is any missing data.\n",
    "victimisation_data %>%\n",
    "    skim() %>%\n",
    "    kable()"
   ]
  },
  {
   "cell_type": "code",
   "execution_count": 6,
   "metadata": {},
   "outputs": [
    {
     "data": {},
     "metadata": {},
     "output_type": "display_data"
    },
    {
     "data": {
      "image/png": "[encoded data removed]",
      "text/plain": [
       "plot without title"
      ]
     },
     "metadata": {},
     "output_type": "display_data"
    }
   ],
   "source": [
    "# Select the collumns we need to use.\n",
    "victimisation_data_small <- select(\n",
    "    victimisation_data,\n",
    "    \"Year Month\",\n",
    "    \"Hour\",\n",
    "    \"Occurrence Day Of Week\",\n",
    "    \"Victimisations\",\n",
    "    \"Territorial Authority\",\n",
    "    \"Area Unit\",\n",
    "    \"Crimes type\",\n",
    "    \"ANZSOC Division\",\n",
    "    \"ANZSOC Group\"\n",
    ")\n",
    "\n",
    "# Rename Occurrence Day Of Week to a shorter and easier name to deal with.\n",
    "victimisation_data_small <- rename(victimisation_data_small, wDay = \"Occurrence Day Of Week\")\n",
    "\n",
    "# View the proportions of data types.\n",
    "victimisation_data_small %>%\n",
    "    vis_dat(warn_large_data=F)"
   ]
  },
  {
   "cell_type": "code",
   "execution_count": 7,
   "metadata": {},
   "outputs": [
    {
     "data": {
      "text/html": [
       "<table>\n",
       "<thead><tr><th scope=col>Date</th><th scope=col>Victimisations</th></tr></thead>\n",
       "<tbody>\n",
       "\t<tr><td>Mon </td><td>1993</td></tr>\n",
       "\t<tr><td>Tue </td><td>1921</td></tr>\n",
       "\t<tr><td>Wed </td><td>1924</td></tr>\n",
       "\t<tr><td>Thu </td><td>2021</td></tr>\n",
       "\t<tr><td>Fri </td><td>2079</td></tr>\n",
       "\t<tr><td>Sat </td><td>2299</td></tr>\n",
       "\t<tr><td>Sun </td><td>2207</td></tr>\n",
       "</tbody>\n",
       "</table>\n"
      ],
      "text/latex": [
       "\\begin{tabular}{r|ll}\n",
       " Date & Victimisations\\\\\n",
       "\\hline\n",
       "\t Mon  & 1993\\\\\n",
       "\t Tue  & 1921\\\\\n",
       "\t Wed  & 1924\\\\\n",
       "\t Thu  & 2021\\\\\n",
       "\t Fri  & 2079\\\\\n",
       "\t Sat  & 2299\\\\\n",
       "\t Sun  & 2207\\\\\n",
       "\\end{tabular}\n"
      ],
      "text/markdown": [
       "\n",
       "Date | Victimisations | \n",
       "|---|---|---|---|---|---|---|\n",
       "| Mon  | 1993 | \n",
       "| Tue  | 1921 | \n",
       "| Wed  | 1924 | \n",
       "| Thu  | 2021 | \n",
       "| Fri  | 2079 | \n",
       "| Sat  | 2299 | \n",
       "| Sun  | 2207 | \n",
       "\n",
       "\n"
      ],
      "text/plain": [
       "  Date Victimisations\n",
       "1 Mon  1993          \n",
       "2 Tue  1921          \n",
       "3 Wed  1924          \n",
       "4 Thu  2021          \n",
       "5 Fri  2079          \n",
       "6 Sat  2299          \n",
       "7 Sun  2207          "
      ]
     },
     "metadata": {},
     "output_type": "display_data"
    },
    {
     "data": {
      "text/html": [
       "<table>\n",
       "<thead><tr><th scope=col>Date</th><th scope=col>Num Quakes</th><th scope=col>Mean Magnitude</th><th scope=col>Mean Depth</th></tr></thead>\n",
       "<tbody>\n",
       "\t<tr><td>Mon     </td><td>45      </td><td>2.779115</td><td>17.56715</td></tr>\n",
       "\t<tr><td>Tue     </td><td>50      </td><td>2.862623</td><td>15.41727</td></tr>\n",
       "\t<tr><td>Wed     </td><td>48      </td><td>2.777747</td><td>18.77362</td></tr>\n",
       "\t<tr><td>Thu     </td><td>37      </td><td>2.651080</td><td>12.22597</td></tr>\n",
       "\t<tr><td>Fri     </td><td>49      </td><td>2.660788</td><td>14.93448</td></tr>\n",
       "\t<tr><td>Sat     </td><td>54      </td><td>3.086621</td><td>23.45195</td></tr>\n",
       "\t<tr><td>Sun     </td><td>40      </td><td>2.722031</td><td>18.47197</td></tr>\n",
       "</tbody>\n",
       "</table>\n"
      ],
      "text/latex": [
       "\\begin{tabular}{r|llll}\n",
       " Date & Num Quakes & Mean Magnitude & Mean Depth\\\\\n",
       "\\hline\n",
       "\t Mon      & 45       & 2.779115 & 17.56715\\\\\n",
       "\t Tue      & 50       & 2.862623 & 15.41727\\\\\n",
       "\t Wed      & 48       & 2.777747 & 18.77362\\\\\n",
       "\t Thu      & 37       & 2.651080 & 12.22597\\\\\n",
       "\t Fri      & 49       & 2.660788 & 14.93448\\\\\n",
       "\t Sat      & 54       & 3.086621 & 23.45195\\\\\n",
       "\t Sun      & 40       & 2.722031 & 18.47197\\\\\n",
       "\\end{tabular}\n"
      ],
      "text/markdown": [
       "\n",
       "Date | Num Quakes | Mean Magnitude | Mean Depth | \n",
       "|---|---|---|---|---|---|---|\n",
       "| Mon      | 45       | 2.779115 | 17.56715 | \n",
       "| Tue      | 50       | 2.862623 | 15.41727 | \n",
       "| Wed      | 48       | 2.777747 | 18.77362 | \n",
       "| Thu      | 37       | 2.651080 | 12.22597 | \n",
       "| Fri      | 49       | 2.660788 | 14.93448 | \n",
       "| Sat      | 54       | 3.086621 | 23.45195 | \n",
       "| Sun      | 40       | 2.722031 | 18.47197 | \n",
       "\n",
       "\n"
      ],
      "text/plain": [
       "  Date Num Quakes Mean Magnitude Mean Depth\n",
       "1 Mon  45         2.779115       17.56715  \n",
       "2 Tue  50         2.862623       15.41727  \n",
       "3 Wed  48         2.777747       18.77362  \n",
       "4 Thu  37         2.651080       12.22597  \n",
       "5 Fri  49         2.660788       14.93448  \n",
       "6 Sat  54         3.086621       23.45195  \n",
       "7 Sun  40         2.722031       18.47197  "
      ]
     },
     "metadata": {},
     "output_type": "display_data"
    },
    {
     "data": {
      "text/html": [
       "<table>\n",
       "<thead><tr><th scope=col>Date</th><th scope=col>Victimisations</th><th scope=col>Num Quakes</th><th scope=col>Mean Magnitude</th><th scope=col>Mean Depth</th></tr></thead>\n",
       "<tbody>\n",
       "\t<tr><td>Mon     </td><td>1993    </td><td>45      </td><td>2.779115</td><td>17.56715</td></tr>\n",
       "\t<tr><td>Tue     </td><td>1921    </td><td>50      </td><td>2.862623</td><td>15.41727</td></tr>\n",
       "\t<tr><td>Wed     </td><td>1924    </td><td>48      </td><td>2.777747</td><td>18.77362</td></tr>\n",
       "\t<tr><td>Thu     </td><td>2021    </td><td>37      </td><td>2.651080</td><td>12.22597</td></tr>\n",
       "\t<tr><td>Fri     </td><td>2079    </td><td>49      </td><td>2.660788</td><td>14.93448</td></tr>\n",
       "\t<tr><td>Sat     </td><td>2299    </td><td>54      </td><td>3.086621</td><td>23.45195</td></tr>\n",
       "\t<tr><td>Sun     </td><td>2207    </td><td>40      </td><td>2.722031</td><td>18.47197</td></tr>\n",
       "</tbody>\n",
       "</table>\n"
      ],
      "text/latex": [
       "\\begin{tabular}{r|lllll}\n",
       " Date & Victimisations & Num Quakes & Mean Magnitude & Mean Depth\\\\\n",
       "\\hline\n",
       "\t Mon      & 1993     & 45       & 2.779115 & 17.56715\\\\\n",
       "\t Tue      & 1921     & 50       & 2.862623 & 15.41727\\\\\n",
       "\t Wed      & 1924     & 48       & 2.777747 & 18.77362\\\\\n",
       "\t Thu      & 2021     & 37       & 2.651080 & 12.22597\\\\\n",
       "\t Fri      & 2079     & 49       & 2.660788 & 14.93448\\\\\n",
       "\t Sat      & 2299     & 54       & 3.086621 & 23.45195\\\\\n",
       "\t Sun      & 2207     & 40       & 2.722031 & 18.47197\\\\\n",
       "\\end{tabular}\n"
      ],
      "text/markdown": [
       "\n",
       "Date | Victimisations | Num Quakes | Mean Magnitude | Mean Depth | \n",
       "|---|---|---|---|---|---|---|\n",
       "| Mon      | 1993     | 45       | 2.779115 | 17.56715 | \n",
       "| Tue      | 1921     | 50       | 2.862623 | 15.41727 | \n",
       "| Wed      | 1924     | 48       | 2.777747 | 18.77362 | \n",
       "| Thu      | 2021     | 37       | 2.651080 | 12.22597 | \n",
       "| Fri      | 2079     | 49       | 2.660788 | 14.93448 | \n",
       "| Sat      | 2299     | 54       | 3.086621 | 23.45195 | \n",
       "| Sun      | 2207     | 40       | 2.722031 | 18.47197 | \n",
       "\n",
       "\n"
      ],
      "text/plain": [
       "  Date Victimisations Num Quakes Mean Magnitude Mean Depth\n",
       "1 Mon  1993           45         2.779115       17.56715  \n",
       "2 Tue  1921           50         2.862623       15.41727  \n",
       "3 Wed  1924           48         2.777747       18.77362  \n",
       "4 Thu  2021           37         2.651080       12.22597  \n",
       "5 Fri  2079           49         2.660788       14.93448  \n",
       "6 Sat  2299           54         3.086621       23.45195  \n",
       "7 Sun  2207           40         2.722031       18.47197  "
      ]
     },
     "metadata": {},
     "output_type": "display_data"
    }
   ],
   "source": [
    "#=========================================================================================\n",
    "# Get the required crime data.\n",
    "#=========================================================================================\n",
    "\n",
    "# Get the number of victimisations and the days of the week while excluding unknown days.\n",
    "crime_days <- victimisation_data_small %>%\n",
    "    subset(wDay != \"UNKNOWN\") %>% \n",
    "    group_by(wDay) %>%\n",
    "    summarise(Victimisations = sum(Victimisations))\n",
    "\n",
    "# Rename wDay collumn to Date\n",
    "names(crime_days)[1] <- \"Date\"\n",
    "\n",
    "# Reorganize so that the days of the week are in correct order.\n",
    "crime_days <- crime_days[c(2,6,7,5,1,3,4),]\n",
    "\n",
    "# Print table.\n",
    "crime_days\n",
    "\n",
    "\n",
    "#=========================================================================================\n",
    "# Get the required earthquake data.\n",
    "#=========================================================================================\n",
    "\n",
    "# Get all the data where the event type was registered as an earthquake\n",
    "true_earthquakes <- earthquake_data_small %>%\n",
    "    filter(earthquake_data_small$eventtype==\"earthquake\")\n",
    "\n",
    "# Select the date, magnitude and depth collumns\n",
    "quake_date <- select(true_earthquakes, c(Date, magnitude,depth))\n",
    "\n",
    "# Get the day of the week from the date, group the data by each day and then get the number of Earthquakes and the mean magnitude and depth.\n",
    "quake_date <- mutate(quake_date, Date=wday(Date)) %>%\n",
    "    group_by(Date) %>%\n",
    "    summarise(\n",
    "        \"Num Quakes\" = NROW(Date),\n",
    "        \"Mean Magnitude\" = mean(magnitude), \n",
    "        \"Mean Depth\" = mean(depth)\n",
    "    )\n",
    "\n",
    "# Get each day of the week as a string so that: Mon = 1, Tue = 2, ..., Sun = 7.\n",
    "dow <- c(\"Mon\", \"Tue\", \"Wed\", \"Thu\", \"Fri\", \"Sat\", \"Sun\")\n",
    "quake_date$Date <- dow[quake_date$Date]\n",
    "\n",
    "# Print table.\n",
    "quake_date\n",
    "\n",
    "\n",
    "#=========================================================================================\n",
    "# Create a new data frame.\n",
    "#=========================================================================================\n",
    "\n",
    "# Merge tables\n",
    "full_table <- merge(crime_days, quake_date, by.x=\"Date\", by.y=\"Date\")\n",
    "\n",
    "# Reorganize so that the days of the week are in correct order.\n",
    "full_table <- full_table[c(2,6,7,5,1,3,4),]\n",
    "\n",
    "# Remove row index numbers.\n",
    "row.names(full_table) <- NULL\n",
    "\n",
    "# Print table.\n",
    "full_table"
   ]
  },
  {
   "cell_type": "code",
   "execution_count": 39,
   "metadata": {},
   "outputs": [
    {
     "ename": "ERROR",
     "evalue": "Error in saveWidget(map_html, file = \"earthquake_map.html\"): Saving a widget with selfcontained = TRUE requires pandoc. For details see:\nhttps://github.com/rstudio/rmarkdown/blob/master/PANDOC.md\n",
     "output_type": "error",
     "traceback": [
      "Error in saveWidget(map_html, file = \"earthquake_map.html\"): Saving a widget with selfcontained = TRUE requires pandoc. For details see:\nhttps://github.com/rstudio/rmarkdown/blob/master/PANDOC.md\nTraceback:\n",
      "1. saveWidget(map_html, file = \"earthquake_map.html\")",
      "2. stop(\"Saving a widget with selfcontained = TRUE requires pandoc. For details see:\\n\", \n .     \"https://github.com/rstudio/rmarkdown/blob/master/PANDOC.md\")"
     ]
    }
   ],
   "source": [
    "#=========================================================================================\n",
    "# Create Leaflet map.\n",
    "#=========================================================================================\n",
    "\n",
    "# Create a custom colour palette for the Leaflet map\n",
    "pal <- colorNumeric(palette = c(\"#FF3366\", \"#AA3333\", \"#992222\", \"#661111\", \"#330000\"), domain = true_earthquakes$depth)\n",
    "\n",
    "# Create the Leaflet map\n",
    "map_html <- leaflet(true_earthquakes) %>%\n",
    "    addTiles() %>%\n",
    "    addCircles(\n",
    "        color = ~pal(depth),\n",
    "        lng = ~longitude,\n",
    "        lat = ~latitude,\n",
    "        radius = ~magnitude*1000,\n",
    "        weight = 1,\n",
    "        popup = \"\",\n",
    "        fillOpacity = 1\n",
    "    )\n",
    "\n",
    "# Save the map as an html file as we cannot run the map in Jupyter Lab\n",
    "saveWidget(map_html, file=\"earthquake_map.html\")"
   ]
  },
  {
   "cell_type": "code",
   "execution_count": 14,
   "metadata": {},
   "outputs": [
    {
     "data": {},
     "metadata": {},
     "output_type": "display_data"
    },
    {
     "name": "stdout",
     "output_type": "stream",
     "text": []
    },
    {
     "name": "stdout",
     "output_type": "stream",
     "text": []
    },
    {
     "name": "stdout",
     "output_type": "stream",
     "text": []
    },
    {
     "name": "stdout",
     "output_type": "stream",
     "text": []
    },
    {
     "name": "stdout",
     "output_type": "stream",
     "text": []
    },
    {
     "name": "stdout",
     "output_type": "stream",
     "text": []
    },
    {
     "name": "stdout",
     "output_type": "stream",
     "text": []
    },
    {
     "name": "stdout",
     "output_type": "stream",
     "text": []
    },
    {
     "name": "stdout",
     "output_type": "stream",
     "text": []
    },
    {
     "name": "stdout",
     "output_type": "stream",
     "text": []
    },
    {
     "name": "stdout",
     "output_type": "stream",
     "text": []
    },
    {
     "name": "stdout",
     "output_type": "stream",
     "text": []
    },
    {
     "name": "stdout",
     "output_type": "stream",
     "text": []
    },
    {
     "name": "stdout",
     "output_type": "stream",
     "text": []
    },
    {
     "name": "stdout",
     "output_type": "stream",
     "text": []
    },
    {
     "name": "stdout",
     "output_type": "stream",
     "text": []
    },
    {
     "name": "stdout",
     "output_type": "stream",
     "text": []
    },
    {
     "name": "stdout",
     "output_type": "stream",
     "text": []
    },
    {
     "name": "stdout",
     "output_type": "stream",
     "text": []
    },
    {
     "name": "stdout",
     "output_type": "stream",
     "text": []
    },
    {
     "name": "stdout",
     "output_type": "stream",
     "text": []
    },
    {
     "name": "stdout",
     "output_type": "stream",
     "text": []
    },
    {
     "name": "stdout",
     "output_type": "stream",
     "text": []
    },
    {
     "name": "stdout",
     "output_type": "stream",
     "text": []
    },
    {
     "name": "stdout",
     "output_type": "stream",
     "text": []
    },
    {
     "name": "stdout",
     "output_type": "stream",
     "text": []
    },
    {
     "name": "stdout",
     "output_type": "stream",
     "text": []
    },
    {
     "name": "stdout",
     "output_type": "stream",
     "text": []
    },
    {
     "name": "stdout",
     "output_type": "stream",
     "text": []
    },
    {
     "name": "stdout",
     "output_type": "stream",
     "text": []
    },
    {
     "name": "stdout",
     "output_type": "stream",
     "text": []
    },
    {
     "name": "stdout",
     "output_type": "stream",
     "text": []
    },
    {
     "name": "stdout",
     "output_type": "stream",
     "text": []
    },
    {
     "name": "stdout",
     "output_type": "stream",
     "text": []
    },
    {
     "name": "stdout",
     "output_type": "stream",
     "text": []
    },
    {
     "name": "stdout",
     "output_type": "stream",
     "text": []
    },
    {
     "name": "stdout",
     "output_type": "stream",
     "text": []
    },
    {
     "name": "stdout",
     "output_type": "stream",
     "text": []
    },
    {
     "name": "stdout",
     "output_type": "stream",
     "text": []
    },
    {
     "name": "stdout",
     "output_type": "stream",
     "text": []
    },
    {
     "name": "stdout",
     "output_type": "stream",
     "text": []
    },
    {
     "name": "stdout",
     "output_type": "stream",
     "text": []
    },
    {
     "name": "stdout",
     "output_type": "stream",
     "text": []
    },
    {
     "name": "stdout",
     "output_type": "stream",
     "text": []
    },
    {
     "name": "stdout",
     "output_type": "stream",
     "text": []
    },
    {
     "name": "stdout",
     "output_type": "stream",
     "text": []
    },
    {
     "name": "stdout",
     "output_type": "stream",
     "text": []
    },
    {
     "name": "stdout",
     "output_type": "stream",
     "text": []
    },
    {
     "name": "stdout",
     "output_type": "stream",
     "text": []
    },
    {
     "ename": "ERROR",
     "evalue": "Error in par3d(args, subscene = s): rgl device 7 cannot be found\n",
     "output_type": "error",
     "traceback": [
      "Error in par3d(args, subscene = s): rgl device 7 cannot be found\nTraceback:\n",
      "1. movie3d(spin3d(axis = c(0, 0, 1), rpm = 3), duration = 20, dir = getwd(), \n .     type = \"gif\", clean = TRUE, fps = 25)",
      "2. par3d(args, subscene = s)"
     ]
    }
   ],
   "source": [
    "#=========================================================================================\n",
    "# Create 3d Graph.\n",
    "#=========================================================================================\n",
    "\n",
    "# Set the visual size of the graph and window.\n",
    "par3d(cex=0.75)\n",
    "par3d(windowRect = c(20, 30, 800, 800))\n",
    "\n",
    "# Plot the 3d graph\n",
    "plot3d(\n",
    "    x = earthquake_data_small$latitude,\n",
    "    y = earthquake_data_small$longitude,\n",
    "    z = -(earthquake_data_small$depth),\n",
    "    xlab = \"Latitude\",\n",
    "    ylab = \"Longitude\",\n",
    "    zlab = \"Depth\",\n",
    "    col=rainbow(1000),\n",
    "    radius = 2,\n",
    "    size=7\n",
    ")\n",
    "\n",
    "# Display 3d graph in a popup window.\n",
    "movie3d(\n",
    "    spin3d(axis = c(0, 0, 1), rpm = 3),\n",
    "    duration = 20, \n",
    "    dir = getwd(),\n",
    "    type = \"gif\",\n",
    "    clean = TRUE,\n",
    "    fps = 25)"
   ]
  },
  {
   "cell_type": "code",
   "execution_count": 15,
   "metadata": {},
   "outputs": [
    {
     "data": {
      "image/png": "[encoded data removed]",
      "text/plain": [
       "Plot with title \"Crime by day of the week\""
      ]
     },
     "metadata": {},
     "output_type": "display_data"
    }
   ],
   "source": [
    "#=========================================================================================\n",
    "# Create barplot for number of victimisations for each day of the week.\n",
    "#=========================================================================================\n",
    "\n",
    "barplot(\n",
    "    crime_days$Victimisations,\n",
    "    main=\"Crime by day of the week\",\n",
    "    xlab=\"Days\",\n",
    "    ylab=\"Number of Victimisations\",\n",
    "    names.arg=c(\"Mon\", \"Tue\", \"Wed\", \"Thu\", \"Fri\", \"Sat\", \"Sun\"),\n",
    "    ylim=c(0, 2500)\n",
    ")"
   ]
  },
  {
   "cell_type": "code",
   "execution_count": 12,
   "metadata": {},
   "outputs": [
    {
     "data": {
      "image/png": "[encoded data removed]",
      "text/plain": [
       "Plot with title \"Earthquakes by day of the week\""
      ]
     },
     "metadata": {},
     "output_type": "display_data"
    }
   ],
   "source": [
    "#=========================================================================================\n",
    "# Create barplot for number of earthquakes for each day of the week.\n",
    "#=========================================================================================\n",
    "\n",
    "barplot(\n",
    "    quake_date$\"Num Quakes\",\n",
    "    main=\"Earthquakes by day of the week\",\n",
    "    xlab=\"Days\",\n",
    "    ylab=\"Number of Earthquakes\",\n",
    "    names.arg=c(\"Mon\", \"Tue\", \"Wed\", \"Thu\", \"Fri\", \"Sat\", \"Sun\"),\n",
    "    ylim=c(0, 60)\n",
    ")"
   ]
  },
  {
   "cell_type": "code",
   "execution_count": 13,
   "metadata": {},
   "outputs": [
    {
     "data": {
      "text/html": [
       "<table>\n",
       "<thead><tr><th scope=col>wDay</th><th scope=col>Average_Victimisations</th></tr></thead>\n",
       "<tbody>\n",
       "\t<tr><td>Monday   </td><td>1.047844 </td></tr>\n",
       "\t<tr><td>Tuesday  </td><td>1.042322 </td></tr>\n",
       "\t<tr><td>Wednesday</td><td>1.054247 </td></tr>\n",
       "\t<tr><td>Thursday </td><td>1.064805 </td></tr>\n",
       "\t<tr><td>Friday   </td><td>1.051593 </td></tr>\n",
       "\t<tr><td>Saturday </td><td>1.072795 </td></tr>\n",
       "\t<tr><td>Sunday   </td><td>1.073966 </td></tr>\n",
       "</tbody>\n",
       "</table>\n"
      ],
      "text/latex": [
       "\\begin{tabular}{r|ll}\n",
       " wDay & Average\\_Victimisations\\\\\n",
       "\\hline\n",
       "\t Monday    & 1.047844 \\\\\n",
       "\t Tuesday   & 1.042322 \\\\\n",
       "\t Wednesday & 1.054247 \\\\\n",
       "\t Thursday  & 1.064805 \\\\\n",
       "\t Friday    & 1.051593 \\\\\n",
       "\t Saturday  & 1.072795 \\\\\n",
       "\t Sunday    & 1.073966 \\\\\n",
       "\\end{tabular}\n"
      ],
      "text/markdown": [
       "\n",
       "wDay | Average_Victimisations | \n",
       "|---|---|---|---|---|---|---|\n",
       "| Monday    | 1.047844  | \n",
       "| Tuesday   | 1.042322  | \n",
       "| Wednesday | 1.054247  | \n",
       "| Thursday  | 1.064805  | \n",
       "| Friday    | 1.051593  | \n",
       "| Saturday  | 1.072795  | \n",
       "| Sunday    | 1.073966  | \n",
       "\n",
       "\n"
      ],
      "text/plain": [
       "  wDay      Average_Victimisations\n",
       "1 Monday    1.047844              \n",
       "2 Tuesday   1.042322              \n",
       "3 Wednesday 1.054247              \n",
       "4 Thursday  1.064805              \n",
       "5 Friday    1.051593              \n",
       "6 Saturday  1.072795              \n",
       "7 Sunday    1.073966              "
      ]
     },
     "metadata": {},
     "output_type": "display_data"
    },
    {
     "data": {
      "image/png": "[encoded data removed]",
      "text/plain": [
       "Plot with title \"Average Victimisations per Day of Week\""
      ]
     },
     "metadata": {},
     "output_type": "display_data"
    }
   ],
   "source": [
    "#=========================================================================================\n",
    "# Create barplot for number of earthquakes for each day of the week.\n",
    "#=========================================================================================\n",
    "\n",
    "# Creates a new function for calculating the average victimisations per day of week.\n",
    "# filtered is to select the day of week we want.\n",
    "# total_vic is to sum up all victimisations that took place on the target day of week.\n",
    "# total_day is the number of the targer day of week.\n",
    "# average_num is the average victimisations per day of week.\n",
    "average_victim <- function(data, target) {\n",
    "    filtered <- data %>%\n",
    "        filter(wDay == target)\n",
    "    total_vic <- sum(filtered$Victimisations,na.rm=TRUE)\n",
    "    total_day <- filtered %>%\n",
    "        nrow()\n",
    "    average_num <- total_vic / total_day\n",
    "    return(average_num)\n",
    "}\n",
    "\n",
    "# Create a new data frame that contains days of week and relevant numbers of average victimisations.\n",
    "victim_per_day <- data_frame(\n",
    "    wDay = c(\"Monday\", \"Tuesday\", \"Wednesday\", \"Thursday\", \"Friday\", \"Saturday\", \"Sunday\"),\n",
    "    Average_Victimisations = c(\n",
    "        victimisation_data_small %>% average_victim(target = \"Mon\"),\n",
    "        victimisation_data_small %>% average_victim(target = \"Tue\"),\n",
    "        victimisation_data_small %>% average_victim(target = \"Wed\"),\n",
    "        victimisation_data_small %>% average_victim(target = \"Thu\"),\n",
    "        victimisation_data_small %>% average_victim(target = \"Fri\"),\n",
    "        victimisation_data_small %>% average_victim(target = \"Sat\"),\n",
    "        victimisation_data_small %>% average_victim(target = \"Sun\")\n",
    "    )\n",
    ")\n",
    "\n",
    "# Print table.\n",
    "victim_per_day\n",
    "\n",
    "# Create a barplot graph based on the data frame above.\n",
    "barplot(\n",
    "    victim_per_day$Average_Victimisations,\n",
    "    ylim=c(0, 1.2),\n",
    "    main=\"Average Victimisations per Day of Week\",\n",
    "    xlab=\"Days of Week\",\n",
    "    names.arg=c(\"Mon\", \"Tue\", \"Wed\", \"Thu\", \"Fri\", \"Sat\",\"Sun\")\n",
    ")"
   ]
  }
 ],
 "metadata": {
  "kernelspec": {
   "display_name": "R",
   "language": "R",
   "name": "ir"
  },
  "language_info": {
   "codemirror_mode": "r",
   "file_extension": ".r",
   "mimetype": "text/x-r-source",
   "name": "R",
   "pygments_lexer": "r",
   "version": "3.5.1"
  }
 },
 "nbformat": 4,
 "nbformat_minor": 2
}
